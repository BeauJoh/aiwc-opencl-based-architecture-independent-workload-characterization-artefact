{
 "cells": [
  {
   "cell_type": "code",
   "execution_count": 1,
   "metadata": {},
   "outputs": [],
   "source": [
    "%load_ext rpy2.ipython"
   ]
  },
  {
   "cell_type": "code",
   "execution_count": 4,
   "metadata": {},
   "outputs": [
    {
     "name": "stdout",
     "output_type": "stream",
     "text": [
      "\n",
      "Error in library(\"cowplot\") : there is no package called 'cowplot'\n"
     ]
    },
    {
     "name": "stderr",
     "output_type": "stream",
     "text": [
      "/usr/local/lib/python3.5/dist-packages/rpy2/rinterface/__init__.py:146: RRuntimeWarning: Error in library(\"cowplot\") : there is no package called 'cowplot'\n",
      "\n",
      "  warnings.warn(x, RRuntimeWarning)\n"
     ]
    }
   ],
   "source": [
    "%%R\n",
    "library('gridGraphics')\n",
    "library('cowplot')\n",
    "source('./analysis_tools/kiviat_plotter.R')\n",
    "load('./analysis_tools/newfeat.Rdf')\n",
    "source('./analysis_tools/restructure_aiwc_data.R')\n",
    "\n",
    "featdata.all <- drop_metrics_for_simple_kiviat(featdata.all)\n",
    "featdata.kmeans <- subset(featdata.all,application==\"kmeans\")\n",
    "featdata.lud    <- subset(featdata.all,application==\"lud\")\n",
    "featdata.csr    <- subset(featdata.all,application==\"csr\")\n",
    "featdata.fft    <- subset(featdata.all,application==\"fft\")\n",
    "featdata.gem    <- subset(featdata.all,application==\"gem\")\n",
    "featdata.dwt    <- subset(featdata.all,application==\"dwt\")\n",
    "featdata.srad   <- subset(featdata.all,application==\"srad\")\n",
    "featdata.bfs    <- subset(featdata.all,application==\"bfs\")\n",
    "featdata.hmm    <- subset(featdata.all,application==\"hmm\")\n",
    "featdata.nw     <- subset(featdata.all,application==\"nw\")\n",
    "featdata.crc    <- subset(featdata.all,application==\"crc\")\n",
    "\n",
    "source('./analysis_tools/stacked_features.R')\n"
   ]
  }
 ],
 "metadata": {
  "kernelspec": {
   "display_name": "Python 3",
   "language": "python",
   "name": "python3"
  },
  "language_info": {
   "codemirror_mode": {
    "name": "ipython",
    "version": 3
   },
   "file_extension": ".py",
   "mimetype": "text/x-python",
   "name": "python",
   "nbconvert_exporter": "python",
   "pygments_lexer": "ipython3",
   "version": "3.5.2"
  },
  "toc": {
   "base_numbering": 1,
   "nav_menu": {},
   "number_sections": false,
   "sideBar": false,
   "skip_h1_title": false,
   "title_cell": "Table of Contents",
   "title_sidebar": "Contents",
   "toc_cell": false,
   "toc_position": {},
   "toc_section_display": false,
   "toc_window_display": false
  }
 },
 "nbformat": 4,
 "nbformat_minor": 2
}
